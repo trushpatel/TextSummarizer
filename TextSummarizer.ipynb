{
 "cells": [
  {
   "cell_type": "code",
   "execution_count": 2,
   "id": "99bf9692",
   "metadata": {},
   "outputs": [],
   "source": [
    "import nltk\n",
    "#nltk.download('stopwords')\n",
    "from nltk.corpus import stopwords\n",
    "from nltk.cluster.util import cosine_distance\n",
    "import numpy as np\n",
    "import networkx as nx"
   ]
  },
  {
   "cell_type": "code",
   "execution_count": 3,
   "id": "9aff0792",
   "metadata": {},
   "outputs": [],
   "source": [
    "def read_article(file_name):\n",
    "    file = open(file_name, 'r')\n",
    "    filedata = file.readlines()\n",
    "    article = filedata[0].split(\". \")\n",
    "    sentences = []\n",
    "    for sentence in article:\n",
    "        sentences.append(sentence.replace(\"[^a-zA-z]\", \" \").split(\" \"))\n",
    "    sentences.pop()\n",
    "    return sentences"
   ]
  },
  {
   "cell_type": "code",
   "execution_count": 4,
   "id": "1f929b03",
   "metadata": {},
   "outputs": [],
   "source": [
    "def sentence_similarity(sentence1, sentence2, stopwords=None):\n",
    "    if stopwords is None:\n",
    "        stopwords=[]\n",
    "    sentence1 = [w.lower() for w in sentence1]\n",
    "    sentence2 = [w.lower() for w in sentence2]\n",
    "    all_words = list(set(sentence1 + sentence2))\n",
    "    \n",
    "    vector1 = [0] *len(all_words)\n",
    "    vector2 = [0] *len(all_words)\n",
    "    for w in sentence1:\n",
    "        if w in stopwords:\n",
    "            continue\n",
    "        vector1[all_words.index(w)] += 1\n",
    "    for w in sentence2:\n",
    "        if w in stopwords:\n",
    "            continue\n",
    "        vector2[all_words.index(w)] += 1\n",
    "    return 1-cosine_distance(vector1, vector2)"
   ]
  },
  {
   "cell_type": "code",
   "execution_count": 5,
   "id": "32d71e01",
   "metadata": {},
   "outputs": [],
   "source": [
    "def gen_sim_matrix(sentences, stop_words):\n",
    "    similarity_matrix = np.zeros((len(sentences),len(sentences)))\n",
    "    for idx1 in range(len(sentences)):\n",
    "        for idx2 in range(len(sentences)):\n",
    "            if idx1 == idx2:\n",
    "                continue\n",
    "            similarity_matrix[idx1][idx2] = sentence_similarity(sentences[idx1], sentences[idx2], stop_words)\n",
    "    return similarity_matrix"
   ]
  },
  {
   "cell_type": "code",
   "execution_count": 6,
   "id": "6014bb76",
   "metadata": {},
   "outputs": [],
   "source": [
    "def generate_summary(file_name, top_n = 5):\n",
    "    stop_words = stopwords.words('english')\n",
    "    summarize_text = []\n",
    "    sentences = read_article(file_name)\n",
    "    sentence_similarity_matrix = gen_sim_matrix(sentences, stop_words)\n",
    "    sentence_similarity_graph = nx.from_numpy_array(sentence_similarity_matrix)\n",
    "    scores = nx.pagerank(sentence_similarity_graph)\n",
    "    ranked_sentence = sorted(((scores[i], s) for i,s in enumerate(sentences)), reverse=True)\n",
    "    for i in range(top_n):\n",
    "        summarize_text.append(\" \".join(ranked_sentence[i][1]))\n",
    "    print(\"Summary \\n\",\". \".join(summarize_text))"
   ]
  },
  {
   "cell_type": "code",
   "execution_count": 9,
   "id": "562b71cf",
   "metadata": {},
   "outputs": [
    {
     "data": {
      "text/plain": [
       "[['Microsoft',\n",
       "  'Corporation',\n",
       "  'is',\n",
       "  'an',\n",
       "  'American',\n",
       "  'multinational',\n",
       "  'technology',\n",
       "  'corporation',\n",
       "  'which',\n",
       "  'produces',\n",
       "  'computer',\n",
       "  'software,',\n",
       "  'consumer',\n",
       "  'electronics,',\n",
       "  'personal',\n",
       "  'computers,',\n",
       "  'and',\n",
       "  'related',\n",
       "  'services'],\n",
       " ['Its',\n",
       "  'best',\n",
       "  'known',\n",
       "  'software',\n",
       "  'products',\n",
       "  'are',\n",
       "  'the',\n",
       "  'Microsoft',\n",
       "  'Windows',\n",
       "  'line',\n",
       "  'of',\n",
       "  'operating',\n",
       "  'systems,',\n",
       "  'the',\n",
       "  'Microsoft',\n",
       "  'Office',\n",
       "  'suite,',\n",
       "  'and',\n",
       "  'the',\n",
       "  'Internet',\n",
       "  'Explorer',\n",
       "  'and',\n",
       "  'Edge',\n",
       "  'web',\n",
       "  'browsers'],\n",
       " ['Its',\n",
       "  'flagship',\n",
       "  'hardware',\n",
       "  'products',\n",
       "  'are',\n",
       "  'the',\n",
       "  'Xbox',\n",
       "  'video',\n",
       "  'game',\n",
       "  'consoles',\n",
       "  'and',\n",
       "  'the',\n",
       "  'Microsoft',\n",
       "  'Surface',\n",
       "  'lineup',\n",
       "  'of',\n",
       "  'touchscreen',\n",
       "  'personal',\n",
       "  'computers'],\n",
       " ['Microsoft', 'ranked', 'No'],\n",
       " ['21',\n",
       "  'in',\n",
       "  'the',\n",
       "  '2020',\n",
       "  'Fortune',\n",
       "  '500',\n",
       "  'rankings',\n",
       "  'of',\n",
       "  'the',\n",
       "  'largest',\n",
       "  'United',\n",
       "  'States',\n",
       "  'corporations',\n",
       "  'by',\n",
       "  'total',\n",
       "  'revenue;[3]',\n",
       "  'it',\n",
       "  'was',\n",
       "  'the',\n",
       "  \"world's\",\n",
       "  'largest',\n",
       "  'software',\n",
       "  'maker',\n",
       "  'by',\n",
       "  'revenue',\n",
       "  'as',\n",
       "  'of',\n",
       "  '2016.[4]',\n",
       "  'It',\n",
       "  'is',\n",
       "  'considered',\n",
       "  'one',\n",
       "  'of',\n",
       "  'the',\n",
       "  'Big',\n",
       "  'Five',\n",
       "  'companies',\n",
       "  'in',\n",
       "  'the',\n",
       "  'U.S']]"
      ]
     },
     "execution_count": 9,
     "metadata": {},
     "output_type": "execute_result"
    }
   ],
   "source": [
    "read_article(\"msft.txt\")"
   ]
  },
  {
   "cell_type": "code",
   "execution_count": 10,
   "id": "ee001861",
   "metadata": {},
   "outputs": [
    {
     "name": "stdout",
     "output_type": "stream",
     "text": [
      "Summary \n",
      " Its best known software products are the Microsoft Windows line of operating systems, the Microsoft Office suite, and the Internet Explorer and Edge web browsers. Microsoft ranked No. Its flagship hardware products are the Xbox video game consoles and the Microsoft Surface lineup of touchscreen personal computers. Microsoft Corporation is an American multinational technology corporation which produces computer software, consumer electronics, personal computers, and related services. 21 in the 2020 Fortune 500 rankings of the largest United States corporations by total revenue;[3] it was the world's largest software maker by revenue as of 2016.[4] It is considered one of the Big Five companies in the U.S\n"
     ]
    }
   ],
   "source": [
    "generate_summary(\"msft.txt\")"
   ]
  }
 ],
 "metadata": {
  "kernelspec": {
   "display_name": "Python 3",
   "language": "python",
   "name": "python3"
  },
  "language_info": {
   "codemirror_mode": {
    "name": "ipython",
    "version": 3
   },
   "file_extension": ".py",
   "mimetype": "text/x-python",
   "name": "python",
   "nbconvert_exporter": "python",
   "pygments_lexer": "ipython3",
   "version": "3.9.6"
  }
 },
 "nbformat": 4,
 "nbformat_minor": 5
}
